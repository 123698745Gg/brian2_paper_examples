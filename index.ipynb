{
 "cells": [
  {
   "cell_type": "markdown",
   "metadata": {},
   "source": [
    "# Brian example notebooks\n",
    "\n",
    "These notebooks showcase examples that demonstrate various features of the [Brian simulator](http://brian2.readthedocs.io):\n",
    "\n",
    "* [Example 1 (Pyloric network of the crustacean stomatogastric ganglion)](example_1_pyloric_network.ipynb)\n",
    "    * [the same example using a more detailed neuron model](example_1_pyloric_network_complex.ipynb)\n",
    "* [Example 2 (Smooth pursuit eye movements)](example_2_eye_movements.ipynb)\n",
    "    * [an interactive version of the same example (using *plotly*)](example_2_eye_movements_interactive.ipynb)\n",
    "    * [an interactive version of the same example (using *matplotlib*)](example_2_eye_movements_interactive_matplotlib.ipynb)\n",
    "* [Example 3 (Using bisection to find a neuron's voltage threshold)](example_3_bisection.ipynb)\n",
    "* [Example 4 (neural pitch processing with audio input)](example_4_microphone.ipynb)\n",
    "\n",
    "\n",
    "* [Appendix: multicompartmental model](example_appendix_multicompartment_model.ipynb)\n",
    "* [Appendix: parameter exploration](example_appendix_parameter_exploration.ipynb)"
   ]
  }
 ],
 "metadata": {
  "kernelspec": {
   "display_name": "Python 3",
   "language": "python",
   "name": "python3"
  },
  "language_info": {
   "codemirror_mode": {
    "name": "ipython",
    "version": 3
   },
   "file_extension": ".py",
   "mimetype": "text/x-python",
   "name": "python",
   "nbconvert_exporter": "python",
   "pygments_lexer": "ipython3",
   "version": "3.6.7"
  }
 },
 "nbformat": 4,
 "nbformat_minor": 2
}
